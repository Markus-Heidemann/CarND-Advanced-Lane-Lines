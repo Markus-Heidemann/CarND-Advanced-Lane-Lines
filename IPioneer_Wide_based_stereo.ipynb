{
  "nbformat": 4,
  "nbformat_minor": 0,
  "metadata": {
    "colab": {
      "name": "IPioneer_Wide_based_stereo.ipynb",
      "provenance": [],
      "collapsed_sections": [],
      "authorship_tag": "ABX9TyNHv5fEj3lJax0bxZEdfLyn",
      "include_colab_link": true
    },
    "kernelspec": {
      "name": "python3",
      "display_name": "Python 3"
    }
  },
  "cells": [
    {
      "cell_type": "markdown",
      "metadata": {
        "id": "view-in-github",
        "colab_type": "text"
      },
      "source": [
        "<a href=\"https://colab.research.google.com/github/Markus-Heidemann/CarND-Advanced-Lane-Lines/blob/master/IPioneer_Wide_based_stereo.ipynb\" target=\"_parent\"><img src=\"https://colab.research.google.com/assets/colab-badge.svg\" alt=\"Open In Colab\"/></a>"
      ]
    },
    {
      "cell_type": "markdown",
      "metadata": {
        "id": "PioS64snpmPu",
        "colab_type": "text"
      },
      "source": [
        "# IPioneer: Wide-based Stereo"
      ]
    },
    {
      "cell_type": "code",
      "metadata": {
        "id": "iemrEAhuuFZH",
        "colab_type": "code",
        "colab": {}
      },
      "source": [
        "import cv2\n",
        "import numpy as np\n",
        "import urllib\n",
        "import json\n",
        "from google.colab.patches import cv2_imshow\n",
        "from matplotlib import pyplot as plt\n",
        "plt.rcParams['figure.figsize'] = [30, 15]\n",
        "plt.rcParams['figure.dpi'] = 100"
      ],
      "execution_count": 1,
      "outputs": []
    },
    {
      "cell_type": "markdown",
      "metadata": {
        "id": "CYQ50ObDf-gi",
        "colab_type": "text"
      },
      "source": [
        "# Data import"
      ]
    },
    {
      "cell_type": "code",
      "metadata": {
        "id": "7G-rm7CZ8Mr1",
        "colab_type": "code",
        "colab": {}
      },
      "source": [
        "def loadImage(img_url):\n",
        "  resp = urllib.request.urlopen(img_url)\n",
        "  image = np.asarray(bytearray(resp.read()), dtype=\"uint8\")\n",
        "  image = cv2.imdecode(image, cv2.IMREAD_COLOR)\n",
        "  return image"
      ],
      "execution_count": 2,
      "outputs": []
    },
    {
      "cell_type": "code",
      "metadata": {
        "id": "fBvmlLf_C2zq",
        "colab_type": "code",
        "colab": {}
      },
      "source": [
        "def loadJSON(json_url):\n",
        "  resp = urllib.request.urlopen(json_url)\n",
        "  data = json.loads(resp.read().decode())\n",
        "  return data"
      ],
      "execution_count": 3,
      "outputs": []
    },
    {
      "cell_type": "code",
      "metadata": {
        "id": "G3z0Y31VfcCa",
        "colab_type": "code",
        "colab": {}
      },
      "source": [
        "img_left_folder_url = \"https://raw.githubusercontent.com/Markus-Heidemann/a2d2_datasamples/master/20180810_150607/camera/camera_front_left/20180810150607_camera_frontleft_000000083\"\n",
        "img_right_folder_url = \"https://raw.githubusercontent.com/Markus-Heidemann/a2d2_datasamples/master/20180810_150607/camera/camera_front_right/20180810150607_camera_frontright_000000083\"\n",
        "\n",
        "img_left_url = img_left_folder_url + \".png\"\n",
        "img_right_url = img_right_folder_url + \".png\"\n",
        "\n",
        "calib_data_url = \"https://raw.githubusercontent.com/Markus-Heidemann/a2d2_datasamples/master/cams_lidars.json\""
      ],
      "execution_count": 4,
      "outputs": []
    },
    {
      "cell_type": "code",
      "metadata": {
        "id": "FERXtslYgCuM",
        "colab_type": "code",
        "colab": {}
      },
      "source": [
        "img_left = loadImage(img_left_url)\n",
        "img_right = loadImage(img_right_url)\n",
        "\n",
        "imgrgb_left = cv2.cvtColor(img_left, cv2.COLOR_BGR2RGB)\n",
        "imgrgb_right = cv2.cvtColor(img_right, cv2.COLOR_BGR2RGB)\n",
        "\n",
        "fig, (ax1, ax2) = plt.subplots(1, 2)\n",
        "ax1.imshow(imgrgb_left)\n",
        "ax2.imshow(imgrgb_right)"
      ],
      "execution_count": null,
      "outputs": []
    },
    {
      "cell_type": "code",
      "metadata": {
        "id": "ymykjAdYEQLy",
        "colab_type": "code",
        "colab": {}
      },
      "source": [
        "calib_data = loadJSON(calib_data_url)\n",
        "\n",
        "cam_mat_left = np.array(calib_data[\"cameras\"][\"front_left\"][\"CamMatrix\"])\n",
        "cam_dist_left = np.array(calib_data[\"cameras\"][\"front_left\"][\"Distortion\"])\n",
        "\n",
        "cam_mat_right = np.array(calib_data[\"cameras\"][\"front_right\"][\"CamMatrix\"])\n",
        "cam_dist_right = np.array(calib_data[\"cameras\"][\"front_right\"][\"Distortion\"])"
      ],
      "execution_count": 6,
      "outputs": []
    },
    {
      "cell_type": "markdown",
      "metadata": {
        "id": "OHNnCSeYCIc-",
        "colab_type": "text"
      },
      "source": [
        "# Image undistortion"
      ]
    },
    {
      "cell_type": "code",
      "metadata": {
        "id": "-haRJISmJ6Hk",
        "colab_type": "code",
        "colab": {}
      },
      "source": [
        "d = 90\n",
        "sigma_color = 100\n",
        "sigma_space = 100\n",
        "bilateral_img_left = cv2.bilateralFilter(img_left, d, sigma_color, sigma_space)\n",
        "bilateral_img_right = cv2.bilateralFilter(img_right, d, sigma_color, sigma_space)\n",
        "cv2.bilateralFilter?\n",
        "grayimg_left = cv2.cvtColor(bilateral_img_left, cv2.COLOR_BGR2GRAY)\n",
        "grayimg_right = cv2.cvtColor(bilateral_img_right, cv2.COLOR_BGR2GRAY)\n",
        "\n",
        "undst_left_img = cv2.undistort(grayimg_left, cam_mat_left, cam_dist_left)\n",
        "undst_right_img = cv2.undistort(grayimg_right, cam_mat_right, cam_dist_right)\n",
        "\n",
        "# smooth_sigma = 3\n",
        "# smoothed_undst_left_img = cv2.GaussianBlur(undst_left_img, (0, 0), smooth_sigma)\n",
        "# smoothed_undst_right_img = cv2.GaussianBlur(undst_right_img, (0, 0), smooth_sigma)"
      ],
      "execution_count": null,
      "outputs": []
    },
    {
      "cell_type": "code",
      "metadata": {
        "id": "PD9Lr6KbKRVq",
        "colab_type": "code",
        "colab": {}
      },
      "source": [
        "fig = plt.subplots(2, 2)\n",
        "\n",
        "plt.subplot(3,2,1)\n",
        "plt.imshow(imgrgb_left)\n",
        "plt.subplot(3,2,2)\n",
        "plt.imshow(imgrgb_right)\n",
        "plt.subplot(3,2,3)\n",
        "plt.imshow(undst_left_img, cmap='gray', vmin=0, vmax=255)\n",
        "plt.subplot(3,2,4)\n",
        "plt.imshow(undst_right_img, cmap='gray', vmin=0, vmax=255)\n",
        "plt.subplot(3,2,5)\n",
        "bilateral_img_left_rgb = cv2.cvtColor(bilateral_img_left, cv2.COLOR_BGR2RGB)\n",
        "plt.imshow(bilateral_img_left_rgb, cmap='gray', vmin=0, vmax=255)\n",
        "plt.subplot(3,2,6)\n",
        "bilateral_img_right_rgb = cv2.cvtColor(bilateral_img_right, cv2.COLOR_BGR2RGB)\n",
        "plt.imshow(bilateral_img_right_rgb, cmap='gray', vmin=0, vmax=255)"
      ],
      "execution_count": null,
      "outputs": []
    },
    {
      "cell_type": "markdown",
      "metadata": {
        "id": "RXtt4gOgqOoa",
        "colab_type": "text"
      },
      "source": [
        "# Creation of Disparity Map"
      ]
    },
    {
      "cell_type": "code",
      "metadata": {
        "id": "LNrsu8lmPEp1",
        "colab_type": "code",
        "colab": {}
      },
      "source": [
        "stereo = cv2.StereoSGBM_create(numDisparities=256, blockSize=15)\n",
        "disparity = stereo.compute(undst_left_img, undst_right_img)\n",
        "\n",
        "min_disp = np.min(disparity)\n",
        "max_disp = np.max(disparity)\n",
        "\n",
        "fig, (ax1, ax2) = plt.subplots(1, 2)\n",
        "ax1.imshow(disparity, cmap='gray', vmin=0, vmax=max_disp)\n",
        "ax2.imshow(imgrgb_left)"
      ],
      "execution_count": null,
      "outputs": []
    },
    {
      "cell_type": "code",
      "metadata": {
        "id": "9kvgzFTUQulS",
        "colab_type": "code",
        "colab": {}
      },
      "source": [
        ""
      ],
      "execution_count": null,
      "outputs": []
    }
  ]
}